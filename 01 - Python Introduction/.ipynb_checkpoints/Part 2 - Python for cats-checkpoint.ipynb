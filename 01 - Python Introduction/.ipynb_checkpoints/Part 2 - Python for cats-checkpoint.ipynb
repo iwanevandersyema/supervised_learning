{
 "cells": [
  {
   "cell_type": "markdown",
   "id": "d4c5c50a",
   "metadata": {},
   "source": [
    "# Print"
   ]
  },
  {
   "cell_type": "code",
   "execution_count": 1,
   "id": "e3f40783",
   "metadata": {},
   "outputs": [
    {
     "name": "stdout",
     "output_type": "stream",
     "text": [
      "Meow, saya adalah kucing\n"
     ]
    }
   ],
   "source": [
    "print(\"Meow, saya adalah kucing\")"
   ]
  },
  {
   "cell_type": "markdown",
   "id": "dd0d25ea",
   "metadata": {},
   "source": [
    "# Variable"
   ]
  },
  {
   "cell_type": "code",
   "execution_count": 2,
   "id": "72db0532",
   "metadata": {},
   "outputs": [],
   "source": [
    "pikiran = \"saya merasa batal\""
   ]
  },
  {
   "cell_type": "code",
   "execution_count": 3,
   "id": "71c99400",
   "metadata": {},
   "outputs": [
    {
     "data": {
      "text/plain": [
       "'saya merasa batal'"
      ]
     },
     "execution_count": 3,
     "metadata": {},
     "output_type": "execute_result"
    }
   ],
   "source": [
    "pikiran"
   ]
  },
  {
   "cell_type": "code",
   "execution_count": 5,
   "id": "52d6ec25",
   "metadata": {},
   "outputs": [],
   "source": [
    "pikiran = \"saya merasa lapar\""
   ]
  },
  {
   "cell_type": "code",
   "execution_count": 6,
   "id": "057d570c",
   "metadata": {},
   "outputs": [
    {
     "data": {
      "text/plain": [
       "'saya merasa lapar'"
      ]
     },
     "execution_count": 6,
     "metadata": {},
     "output_type": "execute_result"
    }
   ],
   "source": [
    "pikiran"
   ]
  },
  {
   "cell_type": "markdown",
   "id": "cdf42405",
   "metadata": {},
   "source": [
    "# Fungsi"
   ]
  },
  {
   "cell_type": "code",
   "execution_count": 8,
   "id": "fb06d427",
   "metadata": {},
   "outputs": [
    {
     "data": {
      "text/plain": [
       "'saya merasa ngantuk'"
      ]
     },
     "execution_count": 8,
     "metadata": {},
     "output_type": "execute_result"
    }
   ],
   "source": [
    "pikiran.replace(\"lapar\", \"ngantuk\")"
   ]
  },
  {
   "cell_type": "code",
   "execution_count": 9,
   "id": "e93b9fb1",
   "metadata": {},
   "outputs": [
    {
     "data": {
      "text/plain": [
       "'SAYA MERASA LAPAR'"
      ]
     },
     "execution_count": 9,
     "metadata": {},
     "output_type": "execute_result"
    }
   ],
   "source": [
    "pikiran.upper()"
   ]
  },
  {
   "cell_type": "markdown",
   "id": "48589483",
   "metadata": {},
   "source": [
    "kalau pakai fungsi tertentu, nilainya tidak ditimpa(inplace)"
   ]
  },
  {
   "cell_type": "code",
   "execution_count": 10,
   "id": "5a53b767",
   "metadata": {},
   "outputs": [],
   "source": [
    "pikiran = pikiran.replace(\"lapar\", \"ngantuk\")"
   ]
  },
  {
   "cell_type": "code",
   "execution_count": 11,
   "id": "a66ce60c",
   "metadata": {},
   "outputs": [
    {
     "data": {
      "text/plain": [
       "'saya merasa ngantuk'"
      ]
     },
     "execution_count": 11,
     "metadata": {},
     "output_type": "execute_result"
    }
   ],
   "source": [
    "pikiran"
   ]
  },
  {
   "cell_type": "code",
   "execution_count": 15,
   "id": "4c90872c",
   "metadata": {},
   "outputs": [],
   "source": [
    "def ngegas(x):\n",
    "    return x.upper() + \"!\""
   ]
  },
  {
   "cell_type": "code",
   "execution_count": 16,
   "id": "5092dfac",
   "metadata": {},
   "outputs": [
    {
     "data": {
      "text/plain": [
       "'SAYA MERASA NGANTUK!'"
      ]
     },
     "execution_count": 16,
     "metadata": {},
     "output_type": "execute_result"
    }
   ],
   "source": [
    "ngegas(pikiran)"
   ]
  },
  {
   "cell_type": "code",
   "execution_count": 17,
   "id": "d017921d",
   "metadata": {},
   "outputs": [
    {
     "data": {
      "text/plain": [
       "'saya merasa ngantuk'"
      ]
     },
     "execution_count": 17,
     "metadata": {},
     "output_type": "execute_result"
    }
   ],
   "source": [
    "pikiran"
   ]
  },
  {
   "cell_type": "markdown",
   "id": "f929e9ac",
   "metadata": {},
   "source": [
    "# List"
   ]
  },
  {
   "cell_type": "code",
   "execution_count": 19,
   "id": "e22414bb",
   "metadata": {},
   "outputs": [
    {
     "data": {
      "text/plain": [
       "['meja', 'sofa', 'kursi', 'tv', 'dapur']"
      ]
     },
     "execution_count": 19,
     "metadata": {},
     "output_type": "execute_result"
    }
   ],
   "source": [
    "lokasi = [\"meja\",\"sofa\",\"kursi\",\"tv\",\"dapur\"]\n",
    "lokasi"
   ]
  },
  {
   "cell_type": "code",
   "execution_count": 21,
   "id": "e9544c00",
   "metadata": {},
   "outputs": [
    {
     "data": {
      "text/plain": [
       "'meja'"
      ]
     },
     "execution_count": 21,
     "metadata": {},
     "output_type": "execute_result"
    }
   ],
   "source": [
    "lokasi[0]"
   ]
  },
  {
   "cell_type": "code",
   "execution_count": 23,
   "id": "19742651",
   "metadata": {},
   "outputs": [
    {
     "data": {
      "text/plain": [
       "'dapur'"
      ]
     },
     "execution_count": 23,
     "metadata": {},
     "output_type": "execute_result"
    }
   ],
   "source": [
    "lokasi[-1]"
   ]
  },
  {
   "cell_type": "code",
   "execution_count": 25,
   "id": "99e05cf5",
   "metadata": {},
   "outputs": [],
   "source": [
    "lokasi.append(\"kasur\")"
   ]
  },
  {
   "cell_type": "code",
   "execution_count": 26,
   "id": "85dbda5e",
   "metadata": {},
   "outputs": [
    {
     "data": {
      "text/plain": [
       "['meja', 'sofa', 'kursi', 'tv', 'dapur', 'kasur', 'kasur']"
      ]
     },
     "execution_count": 26,
     "metadata": {},
     "output_type": "execute_result"
    }
   ],
   "source": [
    "lokasi"
   ]
  },
  {
   "cell_type": "code",
   "execution_count": 29,
   "id": "7c671043",
   "metadata": {},
   "outputs": [
    {
     "data": {
      "text/plain": [
       "7"
      ]
     },
     "execution_count": 29,
     "metadata": {},
     "output_type": "execute_result"
    }
   ],
   "source": [
    "len(lokasi) #len adalah singkatan dari length"
   ]
  },
  {
   "cell_type": "markdown",
   "id": "7e1087be",
   "metadata": {},
   "source": [
    "# Slicing"
   ]
  },
  {
   "cell_type": "code",
   "execution_count": 30,
   "id": "aae2434d",
   "metadata": {},
   "outputs": [
    {
     "data": {
      "text/plain": [
       "['sofa', 'kursi']"
      ]
     },
     "execution_count": 30,
     "metadata": {},
     "output_type": "execute_result"
    }
   ],
   "source": [
    "lokasi[1:3]"
   ]
  },
  {
   "cell_type": "code",
   "execution_count": 31,
   "id": "03388ffb",
   "metadata": {},
   "outputs": [
    {
     "data": {
      "text/plain": [
       "['kursi', 'tv', 'dapur']"
      ]
     },
     "execution_count": 31,
     "metadata": {},
     "output_type": "execute_result"
    }
   ],
   "source": [
    "lokasi[2:5]"
   ]
  },
  {
   "cell_type": "code",
   "execution_count": 33,
   "id": "13bba76f",
   "metadata": {},
   "outputs": [
    {
     "data": {
      "text/plain": [
       "['meja', 'sofa', 'kursi', 'tv']"
      ]
     },
     "execution_count": 33,
     "metadata": {},
     "output_type": "execute_result"
    }
   ],
   "source": [
    "lokasi[:4]"
   ]
  },
  {
   "cell_type": "code",
   "execution_count": 34,
   "id": "402462bb",
   "metadata": {},
   "outputs": [
    {
     "data": {
      "text/plain": [
       "['sofa', 'kursi', 'tv', 'dapur', 'kasur', 'kasur']"
      ]
     },
     "execution_count": 34,
     "metadata": {},
     "output_type": "execute_result"
    }
   ],
   "source": [
    "lokasi[1:]"
   ]
  },
  {
   "cell_type": "markdown",
   "id": "7246802c",
   "metadata": {},
   "source": [
    "# Dictionary"
   ]
  },
  {
   "cell_type": "code",
   "execution_count": 35,
   "id": "d028e9e7",
   "metadata": {},
   "outputs": [],
   "source": [
    "preferensi = {\"susu\": \"suka\", \"tikus\": \"suka\", \"lemon\": \"tidak suka\"}"
   ]
  },
  {
   "cell_type": "code",
   "execution_count": 36,
   "id": "6c08ab11",
   "metadata": {},
   "outputs": [
    {
     "data": {
      "text/plain": [
       "{'susu': 'suka', 'tikus': 'suka', 'lemon': 'tidak suka'}"
      ]
     },
     "execution_count": 36,
     "metadata": {},
     "output_type": "execute_result"
    }
   ],
   "source": [
    "preferensi"
   ]
  },
  {
   "cell_type": "code",
   "execution_count": 37,
   "id": "16c50c7f",
   "metadata": {},
   "outputs": [
    {
     "data": {
      "text/plain": [
       "'suka'"
      ]
     },
     "execution_count": 37,
     "metadata": {},
     "output_type": "execute_result"
    }
   ],
   "source": [
    "preferensi[\"susu\"]"
   ]
  },
  {
   "cell_type": "code",
   "execution_count": 38,
   "id": "0b01210a",
   "metadata": {},
   "outputs": [
    {
     "data": {
      "text/plain": [
       "'tidak suka'"
      ]
     },
     "execution_count": 38,
     "metadata": {},
     "output_type": "execute_result"
    }
   ],
   "source": [
    "preferensi[\"lemon\"]"
   ]
  },
  {
   "cell_type": "code",
   "execution_count": 40,
   "id": "86f229d1",
   "metadata": {},
   "outputs": [],
   "source": [
    "preferensi[\"jeruk\"] = \"tidak suka\""
   ]
  },
  {
   "cell_type": "code",
   "execution_count": 41,
   "id": "4b6f93cc",
   "metadata": {},
   "outputs": [
    {
     "data": {
      "text/plain": [
       "{'susu': 'suka', 'tikus': 'suka', 'lemon': 'tidak suka', 'jeruk': 'tidak suka'}"
      ]
     },
     "execution_count": 41,
     "metadata": {},
     "output_type": "execute_result"
    }
   ],
   "source": [
    "preferensi"
   ]
  },
  {
   "cell_type": "code",
   "execution_count": 43,
   "id": "30852585",
   "metadata": {},
   "outputs": [
    {
     "data": {
      "text/plain": [
       "dict_keys(['susu', 'tikus', 'lemon', 'jeruk'])"
      ]
     },
     "execution_count": 43,
     "metadata": {},
     "output_type": "execute_result"
    }
   ],
   "source": [
    "preferensi.keys()"
   ]
  },
  {
   "cell_type": "markdown",
   "id": "f361b8e2",
   "metadata": {},
   "source": [
    "# Conditional"
   ]
  },
  {
   "cell_type": "code",
   "execution_count": 46,
   "id": "5e6e1183",
   "metadata": {},
   "outputs": [],
   "source": [
    "wadah = \"seperti kasur\""
   ]
  },
  {
   "cell_type": "code",
   "execution_count": 47,
   "id": "0d60ba72",
   "metadata": {},
   "outputs": [
    {
     "name": "stdout",
     "output_type": "stream",
     "text": [
      "abaikan\n"
     ]
    }
   ],
   "source": [
    "if wadah == \"seperti kotak\":\n",
    "    print(\"masuk\")\n",
    "\n",
    "elif wadah == \"seperti bak mandi\":\n",
    "    print(\"kabur\")\n",
    "\n",
    "else:\n",
    "    print(\"abaikan\")"
   ]
  },
  {
   "cell_type": "markdown",
   "id": "e77de632",
   "metadata": {},
   "source": [
    "# Iterasi"
   ]
  },
  {
   "cell_type": "code",
   "execution_count": 48,
   "id": "e6ec47e8",
   "metadata": {},
   "outputs": [],
   "source": [
    "jenis_kucing = [\"angora\",\"persia\",\"siberia\",\"mesir\"]"
   ]
  },
  {
   "cell_type": "code",
   "execution_count": 49,
   "id": "ec7152c4",
   "metadata": {},
   "outputs": [
    {
     "data": {
      "text/plain": [
       "'angora'"
      ]
     },
     "execution_count": 49,
     "metadata": {},
     "output_type": "execute_result"
    }
   ],
   "source": [
    "jenis_kucing[0]"
   ]
  },
  {
   "cell_type": "code",
   "execution_count": 51,
   "id": "51159b6c",
   "metadata": {},
   "outputs": [
    {
     "name": "stdout",
     "output_type": "stream",
     "text": [
      "angora adalah jenis kucing\n",
      "persia adalah jenis kucing\n",
      "siberia adalah jenis kucing\n",
      "mesir adalah jenis kucing\n"
     ]
    }
   ],
   "source": [
    "for jenis in jenis_kucing:\n",
    "    print(jenis)"
   ]
  },
  {
   "cell_type": "code",
   "execution_count": 52,
   "id": "2a81b072",
   "metadata": {},
   "outputs": [
    {
     "name": "stdout",
     "output_type": "stream",
     "text": [
      "ANGORA adalah jenis kucing\n",
      "PERSIA adalah jenis kucing\n",
      "SIBERIA adalah jenis kucing\n",
      "MESIR adalah jenis kucing\n"
     ]
    }
   ],
   "source": [
    " for jenis in jenis_kucing:\n",
    "    print(jenis.upper() + \" adalah jenis kucing\")"
   ]
  },
  {
   "cell_type": "code",
   "execution_count": 54,
   "id": "9d1b14d3",
   "metadata": {},
   "outputs": [
    {
     "name": "stdout",
     "output_type": "stream",
     "text": [
      "kucing ANGORA adalah jenis kucing\n",
      "kucing PERSIA adalah jenis kucing\n",
      "kucing SIBERIA adalah jenis kucing\n",
      "kucing MESIR adalah jenis kucing\n"
     ]
    }
   ],
   "source": [
    " for jenis in jenis_kucing:\n",
    "    print(f\"kucing {jenis.upper()} adalah jenis kucing\")"
   ]
  },
  {
   "cell_type": "code",
   "execution_count": 56,
   "id": "f4d60534",
   "metadata": {},
   "outputs": [
    {
     "data": {
      "text/plain": [
       "'saya merasa ngantuk adalah sebuah pikiran'"
      ]
     },
     "execution_count": 56,
     "metadata": {},
     "output_type": "execute_result"
    }
   ],
   "source": [
    "f\"{pikiran} adalah sebuah pikiran\""
   ]
  },
  {
   "cell_type": "markdown",
   "id": "8e1460fa",
   "metadata": {},
   "source": [
    "# Latihan: Kucing berhitung"
   ]
  },
  {
   "cell_type": "code",
   "execution_count": 57,
   "id": "d43c5c3c",
   "metadata": {},
   "outputs": [
    {
     "name": "stdout",
     "output_type": "stream",
     "text": [
      "3\n",
      "4\n",
      "5\n",
      "6\n"
     ]
    }
   ],
   "source": [
    "for i in range(3, 7):\n",
    "    print(i)"
   ]
  },
  {
   "cell_type": "code",
   "execution_count": 60,
   "id": "3cb1776b",
   "metadata": {},
   "outputs": [
    {
     "name": "stdout",
     "output_type": "stream",
     "text": [
      "0\n",
      "1\n",
      "2\n",
      "3\n",
      "4\n",
      "5\n",
      "6\n",
      "7\n",
      "8\n",
      "9\n",
      "10\n",
      "11\n",
      "12\n",
      "13\n",
      "14\n",
      "15\n",
      "16\n",
      "17\n",
      "18\n",
      "18\n",
      "18\n"
     ]
    }
   ],
   "source": [
    "for i in range(21):\n",
    "    if i > 18:\n",
    "        print(18)\n",
    "    else:\n",
    "        print(i)"
   ]
  },
  {
   "cell_type": "code",
   "execution_count": 61,
   "id": "60f5f78e",
   "metadata": {},
   "outputs": [
    {
     "name": "stdout",
     "output_type": "stream",
     "text": [
      "0\n",
      "1\n",
      "2\n",
      "3\n",
      "4\n",
      "5\n",
      "6\n",
      "7\n",
      "8\n",
      "9\n",
      "10\n",
      "11\n",
      "12\n",
      "13\n",
      "14\n",
      "15\n",
      "16\n",
      "17\n",
      "18\n",
      "18\n",
      "18\n"
     ]
    }
   ],
   "source": [
    "for i in range(21):\n",
    "    print(min(i,18))"
   ]
  },
  {
   "cell_type": "code",
   "execution_count": null,
   "id": "9e3df9d2",
   "metadata": {},
   "outputs": [],
   "source": []
  }
 ],
 "metadata": {
  "kernelspec": {
   "display_name": "Python 3 (ipykernel)",
   "language": "python",
   "name": "python3"
  },
  "language_info": {
   "codemirror_mode": {
    "name": "ipython",
    "version": 3
   },
   "file_extension": ".py",
   "mimetype": "text/x-python",
   "name": "python",
   "nbconvert_exporter": "python",
   "pygments_lexer": "ipython3",
   "version": "3.9.5"
  }
 },
 "nbformat": 4,
 "nbformat_minor": 5
}
